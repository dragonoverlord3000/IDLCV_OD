{
 "cells": [
  {
   "cell_type": "code",
   "id": "initial_id",
   "metadata": {
    "collapsed": true,
    "ExecuteTime": {
     "end_time": "2024-11-07T13:23:07.504454Z",
     "start_time": "2024-11-07T13:23:07.484969Z"
    }
   },
   "source": [
    "import torch\n",
    "\n",
    "def NMS(boxes, scores, iou_threshold=0.5):\n",
    "    \n",
    "    scores = list(scores)\n",
    "    order = sorted(range(len(scores)), key=lambda i: scores[i], reverse=True)\n",
    "    \n",
    "    x1, y1, x2, y2 = boxes[:, 0], boxes[:, 1], boxes[:, 2], boxes[:, 3]  # Coordinates\n",
    "    areas = (x2 - x1 + 1) * (y2 - y1 + 1)\n",
    "\n",
    "    out = []\n",
    "\n",
    "    while len(order) > 0:\n",
    "        i = order[0]  \n",
    "        out.append(order[0])\n",
    "        \n",
    "        if len(order) == 1:\n",
    "            break\n",
    "        \n",
    "        xx1 = torch.max(x1[i], x1[torch.tensor(order[1:])])\n",
    "        yy1 = torch.max(y1[i], y1[torch.tensor(order[1:])])\n",
    "        xx2 = torch.min(x2[i], x2[torch.tensor(order[1:])])\n",
    "        yy2 = torch.min(y2[i], y2[torch.tensor(order[1:])])\n",
    "        \n",
    "        inter = (xx2 - xx1 + 1).clamp(min=0) * (yy2 - yy1 + 1).clamp(min=0)\n",
    "        iou = inter / (areas[i] + areas[torch.tensor(order[1:])] - inter)\n",
    "        \n",
    "        remaining_indices = [j for j, iou_value in enumerate(iou.tolist()) if iou_value <= iou_threshold]\n",
    "        \n",
    "        order = [order[j + 1] for j in remaining_indices]\n",
    "\n",
    "    return out\n"
   ],
   "outputs": [],
   "execution_count": 42
  },
  {
   "metadata": {
    "ExecuteTime": {
     "end_time": "2024-11-07T13:23:07.737022Z",
     "start_time": "2024-11-07T13:23:07.724489Z"
    }
   },
   "cell_type": "code",
   "source": [
    "boxes = torch.tensor([[100, 100, 210, 210], [105, 105, 215, 215], [150, 150, 250, 250]])\n",
    "scores = torch.tensor([0.9, 0.75, 0.8])\n",
    "\n",
    "keep_indices = NMS(boxes, scores, iou_threshold=0.5)\n",
    "print( keep_indices)"
   ],
   "id": "82af733402b44d41",
   "outputs": [
    {
     "name": "stdout",
     "output_type": "stream",
     "text": [
      "[0, 2]\n"
     ]
    }
   ],
   "execution_count": 43
  },
  {
   "metadata": {
    "ExecuteTime": {
     "end_time": "2024-11-07T16:53:51.233516Z",
     "start_time": "2024-11-07T16:53:51.194266Z"
    }
   },
   "cell_type": "code",
   "source": [
    "def compute_iou(box1, box2):\n",
    "    x1, y1, x2, y2 = box1\n",
    "    xx1, yy1, xx2, yy2 = box2\n",
    "\n",
    "    # Compute intersection coordinates\n",
    "    inter_x1 = max(x1, xx1)\n",
    "    inter_y1 = max(y1, yy1)\n",
    "    inter_x2 = min(x2, xx2)\n",
    "    inter_y2 = min(y2, yy2)\n",
    "\n",
    "    # Compute intersection area\n",
    "    inter_area = max(0, inter_x2 - inter_x1) * max(0, inter_y2 - inter_y1)\n",
    "\n",
    "    # Compute areas of both boxes\n",
    "    box1_area = (x2 - x1) * (y2 - y1)\n",
    "    box2_area = (xx2 - xx1) * (yy2 - yy1)\n",
    "\n",
    "    # Compute union area\n",
    "    union_area = box1_area + box2_area - inter_area\n",
    "\n",
    "    # Compute IoU\n",
    "    iou = inter_area / union_area\n",
    "    return iou"
   ],
   "id": "3d1b90301e4b7642",
   "outputs": [],
   "execution_count": 53
  },
  {
   "metadata": {
    "ExecuteTime": {
     "end_time": "2024-11-07T16:57:49.109695Z",
     "start_time": "2024-11-07T16:57:49.085698Z"
    }
   },
   "cell_type": "code",
   "source": [
    "from sklearn.metrics import precision_recall_curve, average_precision_score\n",
    "\n",
    "def mAP(pred_boxes, gt_boxes, iou_threshold=0.5):\n",
    "    y_true = []\n",
    "    y_score = []\n",
    "    matched_gt = {class_id: [False] * len(gt) for class_id, gt in enumerate(gt_boxes)}\n",
    "\n",
    "    for pred in pred_boxes:\n",
    "        xmin, ymin, xmax, ymax, score, class_id = pred\n",
    "        matched = False\n",
    "        best_match_idx = -1\n",
    "        best_iou = 0.0\n",
    "\n",
    "        if class_id < len(gt_boxes):\n",
    "            for idx, gt in enumerate(gt_boxes[class_id]):\n",
    "                if not matched_gt[class_id][idx]:  # Check if this GT box is not already matched\n",
    "                    iou = compute_iou([xmin, ymin, xmax, ymax], gt)\n",
    "                    if iou >= iou_threshold and iou > best_iou:\n",
    "                        best_iou = iou\n",
    "                        best_match_idx = idx\n",
    "                        matched = True\n",
    "\n",
    "            if matched:\n",
    "                matched_gt[class_id][best_match_idx] = True\n",
    "                y_true.append(1)  # True positive\n",
    "            else:\n",
    "                y_true.append(0)  # False positive\n",
    "            y_score.append(score)\n",
    "\n",
    "    # Handle unmatched ground truths (false negatives)\n",
    "    for class_id, gt_list in enumerate(matched_gt):\n",
    "        for matched in matched_gt[class_id]:\n",
    "            if not matched:\n",
    "                y_true.append(0)  # False negative\n",
    "                y_score.append(0)  # Add a low score for completeness\n",
    "\n",
    "    precision, recall, _ = precision_recall_curve(y_true, y_score)\n",
    "    AP = average_precision_score(y_true, y_score)\n",
    "\n",
    "    print(\"y_true:\", y_true)\n",
    "    print(\"y_score:\", y_score)\n",
    "\n",
    "    return AP\n",
    "\n"
   ],
   "id": "35ca2834211f69a3",
   "outputs": [],
   "execution_count": 66
  },
  {
   "metadata": {
    "ExecuteTime": {
     "end_time": "2024-11-07T16:57:49.653744Z",
     "start_time": "2024-11-07T16:57:49.635743Z"
    }
   },
   "cell_type": "code",
   "source": [
    "# Example usage\n",
    "pred_boxes = [\n",
    "    [50, 50, 150, 150, 0.9, 0],  # Predicted [xmin, ymin, xmax, ymax, score, class_id]\n",
    "    [30, 30, 120, 120, 0.8, 1],\n",
    "    # more predictions...\n",
    "]\n",
    "gt_boxes = [\n",
    "    [[50, 50, 150, 150]],  # Ground truth for class 0\n",
    "    [[50, 30, 120, 120]],  # Ground truth for class 1\n",
    "    # more ground truths...\n",
    "]\n",
    "\n",
    "mAP = mAP(pred_boxes, gt_boxes)\n",
    "print(mAP)"
   ],
   "id": "9f2b6f1c3a1e6380",
   "outputs": [
    {
     "name": "stdout",
     "output_type": "stream",
     "text": [
      "y_true: [1, 1]\n",
      "y_score: [0.9, 0.8]\n",
      "1.0\n"
     ]
    }
   ],
   "execution_count": 67
  },
  {
   "metadata": {},
   "cell_type": "code",
   "outputs": [],
   "execution_count": null,
   "source": "",
   "id": "a857170c82187620"
  }
 ],
 "metadata": {
  "kernelspec": {
   "display_name": "Python 3",
   "language": "python",
   "name": "python3"
  },
  "language_info": {
   "codemirror_mode": {
    "name": "ipython",
    "version": 2
   },
   "file_extension": ".py",
   "mimetype": "text/x-python",
   "name": "python",
   "nbconvert_exporter": "python",
   "pygments_lexer": "ipython2",
   "version": "2.7.6"
  }
 },
 "nbformat": 4,
 "nbformat_minor": 5
}
