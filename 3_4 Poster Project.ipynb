{
 "cells": [
  {
   "cell_type": "code",
   "id": "initial_id",
   "metadata": {
    "collapsed": true,
    "ExecuteTime": {
     "end_time": "2024-11-17T16:11:02.663912Z",
     "start_time": "2024-11-17T16:11:02.636853Z"
    }
   },
   "source": [
    "import torch \n",
    "def NMS(boxes, scores, iou_threshold):\n",
    "    # [x1, y1, width, height] \n",
    "    global selected_boxes\n",
    "    scores = list(scores)\n",
    "    order = sorted(range(len(scores)), key=lambda i: scores[i], reverse=True)\n",
    "    \n",
    "    x1, y1, width, height = boxes[:, 0], boxes[:, 1], boxes[:, 2], boxes[:, 3]\n",
    "    x2 = x1 + width\n",
    "    y2 = y1 + height\n",
    "    areas = (x2 - x1 + 1) * (y2 - y1 + 1)\n",
    "\n",
    "    out = []\n",
    "    discarded_iou_map = {}\n",
    "\n",
    "    while len(order) > 0:\n",
    "        i = order[0]  \n",
    "        out.append(i)\n",
    "\n",
    "        if len(order) == 1:\n",
    "            break\n",
    "        \n",
    "        xx1 = torch.max(x1[i], x1[torch.tensor(order[1:])])\n",
    "        yy1 = torch.max(y1[i], y1[torch.tensor(order[1:])])\n",
    "        xx2 = torch.min(x2[i], x2[torch.tensor(order[1:])])\n",
    "        yy2 = torch.min(y2[i], y2[torch.tensor(order[1:])])\n",
    "        \n",
    "        inter = (xx2 - xx1 + 1).clamp(min=0) * (yy2 - yy1 + 1).clamp(min=0)\n",
    "        iou = inter / (areas[i] + areas[torch.tensor(order[1:])] - inter)\n",
    "        \n",
    "        # Record IoU values for discarded boxes\n",
    "        for idx, iou_value in zip(order[1:], iou.tolist()):\n",
    "            if iou_value > iou_threshold:\n",
    "                discarded_iou_map[idx] = iou_value\n",
    "        \n",
    "        remaining_indices = [j for j, iou_value in enumerate(iou.tolist()) if iou_value <= iou_threshold]\n",
    "        order = [order[j + 1] for j in remaining_indices]\n",
    "\n",
    "    selected_boxes = boxes[out]\n",
    "    return selected_boxes, out, discarded_iou_map\n"
   ],
   "outputs": [],
   "execution_count": 8
  },
  {
   "metadata": {
    "ExecuteTime": {
     "end_time": "2024-11-17T16:11:04.247831Z",
     "start_time": "2024-11-17T16:11:04.233908Z"
    }
   },
   "cell_type": "code",
   "source": [
    "'''Expected Behavior\n",
    "\n",
    "    Box 1 is small and has a high score of 0.9.\n",
    "    Box 2 is large and overlaps with Box 1 and Box 3.\n",
    "    Box 3 has a medium score (0.8) and overlaps with Box 2, but has less overlap with Box 1.\n",
    "    Given an IOU threshold of 0.7, Box 1 should be retained because of its high score and minimal overlap with the other boxes.\n",
    "    Box 3 should be kept due to its score of 0.8 and lesser overlap with the others compared to Box 2.\n",
    "    Box 2 may be suppressed because of its large overlap with Box 3 and Box 1.'''\n",
    "\n",
    "# Define the bounding boxes and scores\n",
    "boxes = torch.tensor([[100, 100, 10, 10],  # Box 1\n",
    "                      [100, 100, 9, 9],  # Box 2\n",
    "                      [150, 150, 250, 250]])  # Box 3\n",
    "\n",
    "scores = torch.tensor([0.9, 0.75, 0.2])  # Corresponding scores\n",
    "\n",
    "# Apply Non-Maximum Suppression with IOU threshold of 0.7\n",
    "keep_indices = NMS(boxes, scores, iou_threshold=0.7)\n",
    "\n",
    "# Print the indices of the boxes that are kept\n",
    "print(keep_indices)\n"
   ],
   "id": "82af733402b44d41",
   "outputs": [
    {
     "name": "stdout",
     "output_type": "stream",
     "text": [
      "(tensor([[100, 100,  10,  10],\n",
      "        [150, 150, 250, 250]]), [0, 2], {1: 0.8264462947845459})\n"
     ]
    }
   ],
   "execution_count": 9
  },
  {
   "metadata": {
    "ExecuteTime": {
     "end_time": "2024-11-17T16:23:56.515205Z",
     "start_time": "2024-11-17T16:23:56.491089Z"
    }
   },
   "cell_type": "code",
   "source": [
    "# visualizer NMS \n",
    "import matplotlib.pyplot as plt\n",
    "import matplotlib.patches as patches\n",
    "import numpy as np\n",
    "\n",
    "def plot_boxes_nms(boxes, scores, selected_indices, discarded_iou_map, iou_threshold):\n",
    "    \"\"\"\n",
    "    Visualizes the original boxes and the results of NMS with clear IoU annotations and a legend.\n",
    "\n",
    "    Parameters:\n",
    "    - boxes: Tensor of shape (N, 4), all boxes as [x, y, width, height].\n",
    "    - scores: List or tensor of scores for each box.\n",
    "    - selected_indices: List of indices of boxes selected by NMS.\n",
    "    - discarded_iou_map: Dict mapping discarded box indices to IoU with the corresponding selected box.\n",
    "    - iou_threshold: IoU threshold used for NMS.\n",
    "    \"\"\"\n",
    "    # Convert tensors to numpy for compatibility with matplotlib\n",
    "    boxes = boxes.numpy()\n",
    "    scores = np.array(scores)\n",
    "    selected_indices_set = set(selected_indices)  # Convert to set for faster lookup\n",
    "\n",
    "    fig, axes = plt.subplots(1, 2, figsize=(15, 7))\n",
    "\n",
    "    # Left: All boxes in blue\n",
    "    axes[0].set_title(\"All Boxes\")\n",
    "    axes[0].set_xlim(0, max(boxes[:, 0] + boxes[:, 2]) + 10)\n",
    "    axes[0].set_ylim(0, max(boxes[:, 1] + boxes[:, 3]) + 10)\n",
    "    axes[0].invert_yaxis()  # Invert y-axis for image-like coordinates\n",
    "    for i, box in enumerate(boxes):\n",
    "        x, y, w, h = box\n",
    "        rect = patches.Rectangle((x, y), w, h, linewidth=1, edgecolor='blue', facecolor='none')\n",
    "        axes[0].add_patch(rect)\n",
    "    # Add legend for all boxes\n",
    "    blue_patch = patches.Patch(color='blue', label='All Boxes')\n",
    "    axes[0].legend(handles=[blue_patch], loc='upper right')\n",
    "\n",
    "    # Right: NMS results (selected in green, discarded in red)\n",
    "    axes[1].set_title(\"NMS Results\")\n",
    "    axes[1].set_xlim(0, max(boxes[:, 0] + boxes[:, 2]) + 10)\n",
    "    axes[1].set_ylim(0, max(boxes[:, 1] + boxes[:, 3]) + 10)\n",
    "    axes[1].invert_yaxis()\n",
    "    for i, box in enumerate(boxes):\n",
    "        x, y, w, h = box\n",
    "        if i in selected_indices_set:  # Selected boxes in green\n",
    "            rect = patches.Rectangle((x, y), w, h, linewidth=2, edgecolor='green', facecolor='none')\n",
    "            axes[1].add_patch(rect)\n",
    "            # Add the score as text\n",
    "            axes[1].text(x + w / 2, y - 5, f\"{scores[i]:.2f}\", color='green', fontsize=8, ha='center')\n",
    "        else:  # Discarded boxes in red\n",
    "            rect = patches.Rectangle((x, y), w, h, linewidth=1, edgecolor='red', facecolor='none')\n",
    "            axes[1].add_patch(rect)\n",
    "            # Add IoU as text if available\n",
    "            discarded_iou = discarded_iou_map.get(i, None)\n",
    "            if discarded_iou is not None:\n",
    "                axes[1].text(x + w / 2, y - 5, f\"IoU: {discarded_iou:.2f}\", color='red', fontsize=8, ha='center')\n",
    "\n",
    "    # Add legend for NMS Results panel\n",
    "    green_patch = patches.Patch(color='green', label='Selected Boxes')\n",
    "    red_patch = patches.Patch(color='red', label='Discarded Boxes')\n",
    "    axes[1].legend(handles=[green_patch, red_patch], loc='upper right')\n",
    "\n",
    "    plt.tight_layout()\n",
    "    plt.show()\n",
    "\n"
   ],
   "id": "3f180b10f152757b",
   "outputs": [],
   "execution_count": 19
  },
  {
   "metadata": {
    "ExecuteTime": {
     "end_time": "2024-11-17T16:23:57.523052Z",
     "start_time": "2024-11-17T16:23:56.882367Z"
    }
   },
   "cell_type": "code",
   "source": [
    "# Example data\n",
    "boxes = torch.tensor([[10, 10, 20, 20],\n",
    "                      [11, 11, 20, 20],\n",
    "                      [35, 35, 10, 10]])\n",
    "scores = torch.tensor([0.9, 0.8, 0.7])\n",
    "iou_threshold = 0.8\n",
    "\n",
    "# Run NMS\n",
    "selected_boxes, selected_indices, discarded_iou_map = NMS(boxes, scores, iou_threshold)\n",
    "\n",
    "# Plot results\n",
    "plot_boxes_nms(boxes, scores, selected_indices, discarded_iou_map, iou_threshold)\n"
   ],
   "id": "6abc94cfe98088f8",
   "outputs": [
    {
     "data": {
      "text/plain": [
       "<Figure size 1500x700 with 2 Axes>"
      ],
      "image/png": "[encoded data removed]"
     },
     "metadata": {},
     "output_type": "display_data"
    }
   ],
   "execution_count": 20
  },
  {
   "metadata": {
    "ExecuteTime": {
     "end_time": "2024-11-14T16:49:22.703594Z",
     "start_time": "2024-11-14T16:49:22.690285Z"
    }
   },
   "cell_type": "code",
   "source": [
    "def compute_iou(box1, box2):\n",
    "    # input of boxes [x, y, width, height] for box1, [xmin, ymin, xmax, ymax] for box2\n",
    "    x1, y1, w1, h1 = box1\n",
    "    xmin2, ymin2, xmax2, ymax2 = box2\n",
    "\n",
    "    # Convert box1 to [x_min, y_min, x_max, y_max]\n",
    "    box1_xmax = x1 +w1 \n",
    "    box1_ymax =  y1 + h1\n",
    "\n",
    "    # Compute intersection coordinates\n",
    "    inter_x1 = max(x1, xmin2)\n",
    "    inter_y1 = max(y1, ymin2)\n",
    "    inter_x2 = min(box1_xmax, xmax2)\n",
    "    inter_y2 = min(box1_ymax, ymax2)\n",
    "\n",
    "    # Compute intersection area\n",
    "    inter_area = max(0, inter_x2 - inter_x1) * max(0, inter_y2 - inter_y1)\n",
    "\n",
    "    # Compute areas of both boxes\n",
    "    box1_area = w1 * h1\n",
    "    box2_area = (xmax2 - xmin2) * (ymax2 - ymin2)\n",
    "\n",
    "    # Compute union area\n",
    "    union_area = box1_area + box2_area - inter_area\n",
    "\n",
    "    # Compute IoU\n",
    "    iou = inter_area / union_area if union_area > 0 else 0\n",
    "    return iou\n",
    "\n"
   ],
   "id": "3d1b90301e4b7642",
   "outputs": [],
   "execution_count": 8
  },
  {
   "metadata": {
    "ExecuteTime": {
     "end_time": "2024-11-14T16:49:22.719065Z",
     "start_time": "2024-11-14T16:49:22.706544Z"
    }
   },
   "cell_type": "code",
   "source": [
    "import numpy\n",
    "import matplotlib.pyplot as plt\n",
    "from sklearn.metrics import precision_recall_curve\n",
    "\n",
    "def mAP(pred_boxes, gt_boxes, iou_threshold):\n",
    "    # Input prd: [x,y,width, height]\n",
    "    # Input gt: [xmin, ymin, xmax, ymax] \n",
    "    y_true = []\n",
    "    y_score = []\n",
    "    matched_gt = {class_id: [False] * len(gt) for class_id, gt in enumerate(gt_boxes)}\n",
    "\n",
    "    for pred in pred_boxes:\n",
    "        x, y, w, h, score, class_id = pred\n",
    "        matched = False\n",
    "        best_match_idx = -1\n",
    "        best_iou = 0.0\n",
    "\n",
    "        if class_id < len(gt_boxes):\n",
    "            for idx, gt in enumerate(gt_boxes[class_id]):\n",
    "                if not matched_gt[class_id][idx]:  # Check if this GT box is not already matched\n",
    "                    iou = compute_iou([x, y, w, h], gt)\n",
    "                    if iou >= iou_threshold and iou > best_iou:\n",
    "                        best_iou = iou\n",
    "                        best_match_idx = idx\n",
    "                        matched = True\n",
    "\n",
    "            if matched:\n",
    "                matched_gt[class_id][best_match_idx] = True\n",
    "                y_true.append(1)  # True positive\n",
    "            else:\n",
    "                y_true.append(0)  # False positive\n",
    "            y_score.append(score)\n",
    "\n",
    "    # Handle unmatched ground truths (false negatives)\n",
    "    for class_id, gt_list in enumerate(matched_gt):\n",
    "        for matched in matched_gt[class_id]:\n",
    "            if not matched:\n",
    "                y_true.append(0)  # False negative\n",
    "                y_score.append(0)  # Add a low score for completeness\n",
    "\n",
    "    precision, recall, _ = precision_recall_curve(y_true, y_score)\n",
    "\n",
    "    # Plotting Precision-Recall curve\n",
    "    plt.plot(recall, precision, linewidth=4, color=\"red\", zorder=0)\n",
    "    plt.xlabel(\"Recall\", fontsize=12, fontweight='bold')\n",
    "    plt.ylabel(\"Precision\", fontsize=12, fontweight='bold')\n",
    "    plt.title(\"Precision-Recall Curve\", fontsize=15, fontweight=\"bold\")\n",
    "    plt.show()\n",
    "\n",
    "    # Append to precision and recall\n",
    "    precision = numpy.concatenate((precision, [1]))\n",
    "    recall = numpy.concatenate((recall, [0]))\n",
    "\n",
    "    # Calculate Average Precision (AP)\n",
    "    AP = numpy.sum((recall[:-1] - recall[1:]) * precision[:-1])\n",
    "    print(AP)\n",
    "\n",
    "    print(\"y_true:\", y_true)\n",
    "    print(\"y_score:\", y_score)\n",
    "\n",
    "    return AP"
   ],
   "id": "35ca2834211f69a3",
   "outputs": [],
   "execution_count": 9
  },
  {
   "metadata": {
    "ExecuteTime": {
     "end_time": "2024-11-14T16:49:22.874051Z",
     "start_time": "2024-11-14T16:49:22.721571Z"
    }
   },
   "cell_type": "code",
   "source": [
    "## Test example\n",
    "pred_boxes = [\n",
    "    [50, 50, 100, 100, 0.9, 0],     # Format changed to [x, y, width, height, score, class_id]\n",
    "    [55, 60, 100, 100, 0.75, 0],    \n",
    "    [200, 200, 100, 100, 0.6, 0],   \n",
    "\n",
    "    [30, 30, 90, 90, 0.8, 1],       \n",
    "    [40, 40, 90, 90, 0.5, 1],       \n",
    "    [300, 300, 100, 100, 0.4, 1],   \n",
    "]\n",
    "\n",
    "gt_boxes = [\n",
    "    [[50, 50, 150, 150], [60, 60, 160, 160]],  # Format updated to [xmin, ymin, xmax, ymax]\n",
    "    [[50, 30, 120, 120]],                       \n",
    "]\n",
    "\n",
    "# Run mAP calculation\n",
    "mAP_value = mAP(pred_boxes, gt_boxes, 0.9)  # Setting IoU threshold to 0.5 for a more realistic match\n",
    "print(\"Mean Average Precision (mAP):\", mAP_value)"
   ],
   "id": "9f2b6f1c3a1e6380",
   "outputs": [
    {
     "data": {
      "text/plain": [
       "<Figure size 640x480 with 1 Axes>"
      ],
      "image/png": "[encoded data removed]"
     },
     "metadata": {},
     "output_type": "display_data"
    },
    {
     "name": "stdout",
     "output_type": "stream",
     "text": [
      "0.8333333333333333\n",
      "y_true: [1, 1, 0, 0, 0, 0, 0]\n",
      "y_score: [0.9, 0.75, 0.6, 0.8, 0.5, 0.4, 0]\n",
      "Mean Average Precision (mAP): 0.8333333333333333\n"
     ]
    }
   ],
   "execution_count": 10
  },
  {
   "metadata": {
    "ExecuteTime": {
     "end_time": "2024-11-14T16:49:22.889249Z",
     "start_time": "2024-11-14T16:49:22.875033Z"
    }
   },
   "cell_type": "code",
   "source": "",
   "id": "a857170c82187620",
   "outputs": [],
   "execution_count": 10
  }
 ],
 "metadata": {
  "kernelspec": {
   "display_name": "Python 3",
   "language": "python",
   "name": "python3"
  },
  "language_info": {
   "codemirror_mode": {
    "name": "ipython",
    "version": 2
   },
   "file_extension": ".py",
   "mimetype": "text/x-python",
   "name": "python",
   "nbconvert_exporter": "python",
   "pygments_lexer": "ipython2",
   "version": "2.7.6"
  }
 },
 "nbformat": 4,
 "nbformat_minor": 5
}
